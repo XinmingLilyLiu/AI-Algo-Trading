{
 "cells": [
  {
   "cell_type": "code",
   "execution_count": 1,
   "metadata": {
    "collapsed": true
   },
   "outputs": [],
   "source": [
    "import pandas as pd"
   ]
  },
  {
   "cell_type": "code",
   "execution_count": 51,
   "metadata": {
    "collapsed": true
   },
   "outputs": [],
   "source": [
    "import datetime\n",
    "def get_trading_date(df):\n",
    "    dates = []\n",
    "    for i in range(len(df)):\n",
    "        date = df.loc[i][\"date\"]\n",
    "        time = df.loc[i][\"time\"]\n",
    "        if datetime.datetime.strptime(time, '%I:%M %p') < datetime.datetime.strptime(\"4:00 PM\", '%I:%M %p'):\n",
    "            dates.append(date)\n",
    "        else:\n",
    "            date = datetime.datetime.strftime((datetime.datetime.strptime(date, '%Y-%m-%d') + datetime.timedelta(days=1)), '%Y-%m-%d')\n",
    "            dates.append(date)\n",
    "    return dates"
   ]
  },
  {
   "cell_type": "code",
   "execution_count": 60,
   "metadata": {},
   "outputs": [],
   "source": [
    "from vaderSentiment.vaderSentiment import SentimentIntensityAnalyzer\n",
    "analyzer = SentimentIntensityAnalyzer()"
   ]
  },
  {
   "cell_type": "code",
   "execution_count": 109,
   "metadata": {},
   "outputs": [],
   "source": [
    "def get_sentiment_score(df):\n",
    "    neg_scores = []\n",
    "    neu_scores = []\n",
    "    pos_scores = []\n",
    "    compound_scores = []\n",
    "    for i in range(len(df)):\n",
    "        text = news.loc[i][\"abstract\"]\n",
    "        if type(text) == float: \n",
    "            text = news.loc[i][\"title\"]\n",
    "        score = analyzer.polarity_scores(text)\n",
    "        neg_scores.append(score[\"neg\"])\n",
    "        neu_scores.append(score[\"neu\"])\n",
    "        pos_scores.append(score[\"pos\"])\n",
    "        compound_scores.append(score[\"compound\"])\n",
    "    return neg_scores, neu_scores, pos_scores, compound_scores"
   ]
  },
  {
   "cell_type": "code",
   "execution_count": 113,
   "metadata": {
    "collapsed": true
   },
   "outputs": [],
   "source": [
    "def get_news_data(df, name):\n",
    "    \n",
    "    trading_date = get_trading_date(news)\n",
    "    neg_scores, neu_scores, pos_scores, compound_scores = get_sentiment_score(news)\n",
    "    \n",
    "    d = {\"date\":df[\"date\"], \"time\":df[\"time\"], \"title\":df[\"title\"], \"abstract\":df[\"abstract\"],\n",
    "        \"trading_date\": trading_date, \"neg\": neg_scores, \"neu\":neu_scores, \"pos\":pos_scores, \"compound\":compound_scores}\n",
    "    news_data = pd.DataFrame(data = d)\n",
    "    news_data.to_csv('News/sentiment_' + name + '.csv')"
   ]
  },
  {
   "cell_type": "code",
   "execution_count": 114,
   "metadata": {
    "collapsed": true
   },
   "outputs": [],
   "source": [
    "companies = ['AMZN', 'FB', 'TSLA', 'GE', 'GS']\n",
    "for company in companies:\n",
    "    news = pd.read_csv(\"News/\" + company + \".csv\")\n",
    "    get_news_data(news, company)"
   ]
  },
  {
   "cell_type": "code",
   "execution_count": null,
   "metadata": {
    "collapsed": true
   },
   "outputs": [],
   "source": []
  }
 ],
 "metadata": {
  "kernelspec": {
   "display_name": "Python 3",
   "language": "python",
   "name": "python3"
  },
  "language_info": {
   "codemirror_mode": {
    "name": "ipython",
    "version": 3
   },
   "file_extension": ".py",
   "mimetype": "text/x-python",
   "name": "python",
   "nbconvert_exporter": "python",
   "pygments_lexer": "ipython3",
   "version": "3.6.1"
  }
 },
 "nbformat": 4,
 "nbformat_minor": 2
}
