{
 "cells": [
  {
   "cell_type": "code",
   "execution_count": 1,
   "metadata": {
    "collapsed": true
   },
   "outputs": [],
   "source": [
    "import pandas as pd"
   ]
  },
  {
   "cell_type": "code",
   "execution_count": 8,
   "metadata": {
    "collapsed": true
   },
   "outputs": [],
   "source": [
    "# NOTE: we should also consider neutral case\n",
    "def get_label(df):\n",
    "    labels = [0]\n",
    "    for i in range(1, len(df)):\n",
    "        if df.loc[i][\"close\"] > df.loc[i-1][\"close\"]:\n",
    "            labels.append(1)\n",
    "        else:\n",
    "            labels.append(0)\n",
    "    return labels"
   ]
  },
  {
   "cell_type": "code",
   "execution_count": 9,
   "metadata": {
    "collapsed": true
   },
   "outputs": [],
   "source": [
    "def get_label_data(df, name):\n",
    "    labels = get_label(stock)\n",
    "    d = {\"date\":stock[\"date\"], \"price\": stock[\"close\"], \"label\": labels}\n",
    "    stock_data = pd.DataFrame(data = d)\n",
    "    stock_data.to_csv('Prices/label_' + name + '.csv')"
   ]
  },
  {
   "cell_type": "code",
   "execution_count": 10,
   "metadata": {},
   "outputs": [],
   "source": [
    "companies = ['AAPL', 'BA', 'GOOG', 'INTC', 'MRK']\n",
    "for company in companies:\n",
    "    stock = pd.read_csv(\"Prices/\" + company + \".csv\")\n",
    "    get_label_data(stock, company)"
   ]
  },
  {
   "cell_type": "code",
   "execution_count": null,
   "metadata": {
    "collapsed": true
   },
   "outputs": [],
   "source": []
  }
 ],
 "metadata": {
  "kernelspec": {
   "display_name": "Python 3",
   "language": "python",
   "name": "python3"
  },
  "language_info": {
   "codemirror_mode": {
    "name": "ipython",
    "version": 3
   },
   "file_extension": ".py",
   "mimetype": "text/x-python",
   "name": "python",
   "nbconvert_exporter": "python",
   "pygments_lexer": "ipython3",
   "version": "3.6.1"
  }
 },
 "nbformat": 4,
 "nbformat_minor": 2
}
