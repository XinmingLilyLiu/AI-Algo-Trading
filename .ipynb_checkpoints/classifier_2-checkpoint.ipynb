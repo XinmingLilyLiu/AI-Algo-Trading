{
 "cells": [
  {
   "cell_type": "code",
   "execution_count": 2,
   "metadata": {
    "collapsed": true
   },
   "outputs": [],
   "source": [
    "import pandas as pd\n",
    "import numpy as np\n",
    "import re\n",
    "import matplotlib.pyplot as plt\n",
    "import random\n",
    "import nltk"
   ]
  },
  {
   "cell_type": "code",
   "execution_count": 1,
   "metadata": {},
   "outputs": [
    {
     "name": "stdout",
     "output_type": "stream",
     "text": [
      "Collecting xgboost\n",
      "  Downloading https://files.pythonhosted.org/packages/51/c1/198915b13e98b62a98f48309c41012638464651da755d941f4abe384c012/xgboost-0.82-py2.py3-none-win_amd64.whl (7.7MB)\n",
      "Requirement already satisfied: scipy in c:\\users\\lxmxl\\anaconda3\\lib\\site-packages (from xgboost)\n",
      "Requirement already satisfied: numpy in c:\\users\\lxmxl\\anaconda3\\lib\\site-packages (from xgboost)\n",
      "Installing collected packages: xgboost\n",
      "Successfully installed xgboost-0.82\n"
     ]
    },
    {
     "name": "stderr",
     "output_type": "stream",
     "text": [
      "You are using pip version 9.0.1, however version 19.0.3 is available.\n",
      "You should consider upgrading via the 'python -m pip install --upgrade pip' command.\n"
     ]
    }
   ],
   "source": [
    "from sklearn.ensemble import RandomForestClassifier\n",
    "from sklearn.feature_extraction.text import CountVectorizer\n",
    "from sklearn.naive_bayes import MultinomialNB\n",
    "from sklearn.neural_network import MLPClassifier\n",
    "from sklearn.dummy import DummyClassifier\n",
    "from sklearn.ensemble import GradientBoostingClassifier\n",
    "from sklearn.svm import SVC"
   ]
  },
  {
   "cell_type": "code",
   "execution_count": 3,
   "metadata": {
    "collapsed": true
   },
   "outputs": [],
   "source": [
    "from sklearn.metrics import classification_report, confusion_matrix, accuracy_score, mean_squared_error\n",
    "from sklearn.linear_model import LogisticRegression\n",
    "from sklearn.tree import DecisionTreeClassifier\n",
    "from sklearn.neighbors import KNeighborsClassifier\n",
    "from sklearn.discriminant_analysis import LinearDiscriminantAnalysis\n",
    "from sklearn.naive_bayes import GaussianNB\n",
    "from sklearn.svm import SVC\n",
    "from sklearn.ensemble import AdaBoostClassifier, GradientBoostingClassifier, RandomForestClassifier, ExtraTreesClassifier\n",
    "from xgboost import XGBClassifier"
   ]
  },
  {
   "cell_type": "code",
   "execution_count": 4,
   "metadata": {
    "collapsed": true
   },
   "outputs": [],
   "source": [
    "def trainAndValidate(x, y, title, subplot):\n",
    "    x = np.array(x)\n",
    "    y = np.array(y)\n",
    "\n",
    "    # randomize data\n",
    "    n = len(x)\n",
    "    indices = np.random.choice(n, n, replace=False)\n",
    "    x = x[indices]\n",
    "    y = y[indices]\n",
    "    \n",
    "    # split into train, test and validation\n",
    "    train_idx = int(n*.8)\n",
    "    test_idx = int(n*.9)\n",
    "    \n",
    "    x_train = x[:train_idx,:]\n",
    "    y_train = y[:train_idx]\n",
    "    \n",
    "    x_test = x[train_idx:test_idx,:]\n",
    "    y_test = y[train_idx:test_idx]\n",
    "\n",
    "    x_valid = x[test_idx:,:]\n",
    "    y_valid = y[test_idx:]\n",
    "\n",
    "    # build models\n",
    "    models = []\n",
    "#     models.append(RandomForestClassifier(n_estimators=1000, max_depth=None,random_state=0, oob_score=True))\n",
    "#     models.append(MultinomialNB())\n",
    "#     models.append(MLPClassifier(solver='lbfgs', alpha=1e-5,hidden_layer_sizes=(5, 2), random_state=1))\n",
    "#     models.append(SVC(gamma='auto'))\n",
    "#     models.append(GradientBoostingClassifier(n_estimators=100, learning_rate = .5, max_features=2, max_depth = 2, random_state = 0))\n",
    "#     models.append(DummyClassifier(strategy='most_frequent', random_state=None, constant=None))\n",
    "    models.append(('LR' , LogisticRegression()))\n",
    "    models.append(('LDA' , LinearDiscriminantAnalysis()))\n",
    "    models.append(('KNN' , KNeighborsClassifier()))\n",
    "    models.append(('CART' , DecisionTreeClassifier()))\n",
    "    models.append(('NB' , GaussianNB()))\n",
    "    models.append(('SVM' , SVC()))\n",
    "    models.append(('RF' , RandomForestClassifier(n_estimators=50)))\n",
    "    models.append(('XGBoost', XGBClassifier()))\n",
    "\n",
    "    training_errors = []\n",
    "    validation_errors = []\n",
    "    names = []\n",
    "    n_groups = len(models)\n",
    "\n",
    "    # test models\n",
    "    print (\"=== Accuracy ===\")\n",
    "    for name, model in models:\n",
    "        model.fit(x_train,y_train)\n",
    "        y_pred = model.predict(x_test)\n",
    "        train_error = sum(y_test!=y_pred)/len(y_test)\n",
    "        training_errors.append(train_error)\n",
    "\n",
    "        pred_valid = model.predict(x_valid)\n",
    "        valid_error = sum(np.array(y_valid)!=np.array(pred_valid))/len(y_valid)\n",
    "        validation_errors.append(valid_error)\n",
    "        accu_score = accuracy_score(y_test, y_pred)\n",
    "        names.append(name)\n",
    "        print(name + \": \" + str(accu_score))\n",
    "\n",
    "    # plot\n",
    "    print (\"=== Error Plot ===\")\n",
    "    ax = plt.subplot(1, 2, subplot)\n",
    "    index = np.arange(n_groups)\n",
    "    bar_width = 0.2\n",
    "    opacity = 0.8\n",
    "\n",
    "    rects1 = plt.bar(index, training_errors, bar_width,\n",
    "                 alpha=opacity,\n",
    "                 color='b',\n",
    "                 label='Training Error')\n",
    "\n",
    "    rects2 = plt.bar(index + bar_width, validation_errors, bar_width,\n",
    "                 alpha=opacity,\n",
    "                 color='r',\n",
    "                 label='Validation Error')\n",
    "\n",
    "    #labels\n",
    "    for i, v in enumerate(validation_errors):\n",
    "        ax.text(index[i]+.10, v+.003, str(round(v,2)), color='red', fontweight='bold')\n",
    "    for i, v in enumerate(training_errors):\n",
    "        ax.text(index[i]-.25, v+.003, str(round(v,2)), color='blue', fontweight='bold')\n",
    "\n",
    "    plt.xlabel('Model')\n",
    "    plt.ylabel('Error')\n",
    "    plt.ylim(0,1)\n",
    "    plt.title(title)\n",
    "    plt.xticks(index + bar_width, names)\n",
    "    plt.legend()\n",
    "\n",
    "    return models\n",
    "    #plt.show()"
   ]
  },
  {
   "cell_type": "code",
   "execution_count": 5,
   "metadata": {},
   "outputs": [
    {
     "name": "stdout",
     "output_type": "stream",
     "text": [
      "number of samples: 856\n",
      "=== Accuracy ===\n",
      "LR: 0.581395348837\n",
      "LDA: 0.558139534884\n",
      "KNN: 0.395348837209\n",
      "CART: 0.43023255814\n",
      "NB: 0.593023255814\n",
      "SVM: 0.476744186047\n",
      "RF: 0.441860465116\n",
      "XGBoost: 0.488372093023\n",
      "=== Error Plot ===\n"
     ]
    },
    {
     "data": {
      "image/png": "[encoded data removed]",
      "text/plain": [
       "<matplotlib.figure.Figure at 0x1c3bed1acc0>"
      ]
     },
     "metadata": {},
     "output_type": "display_data"
    }
   ],
   "source": [
    "companies = ['AMZN']#['AMZN', 'FB', 'TSLA', 'GE', 'GS']\n",
    "for company in companies:\n",
    "    # Load data\n",
    "    newsData = pd.read_csv(\"News/sentiment_\" + company + \".csv\", encoding = \"ISO-8859-1\")\n",
    "    stockData = pd.read_csv(\"Prices/label_\" + company + \".csv\")\n",
    "    newsData = newsData.rename(columns={\"trading_date\":\"date\"}) # rename column\n",
    "    \n",
    "    # Merge data frames\n",
    "    merged_df = newsData[['date', 'compound','neg','neu','pos']].merge(stockData[['date','label']], how='inner', on='date', left_index=True)\n",
    "    \n",
    "    # Prepare samples and labels\n",
    "    x = merged_df.loc[:,'compound':'pos']\n",
    "    y = merged_df.loc[:,'label']\n",
    "    \n",
    "    print (\"number of samples: \" + str(len(x)))\n",
    "    \n",
    "    # Train, test and plot\n",
    "    trainAndValidate(x, y, company, 2)\n",
    "    plt.show()\n",
    "    \n",
    "    \n",
    "    "
   ]
  },
  {
   "cell_type": "code",
   "execution_count": 10,
   "metadata": {
    "collapsed": true
   },
   "outputs": [],
   "source": [
    "x = merged_df.loc[:,'compound':'pos']\n",
    "y = merged_df.loc[:,'label']\n",
    "\n",
    "x = np.array(x)\n",
    "y = np.array(y)\n",
    "\n",
    "# randomize data\n",
    "n = len(x)\n",
    "indices = np.random.choice(n, n, replace=False)\n",
    "x = x[indices]\n",
    "y = y[indices]\n",
    "\n",
    "# split into train, test and validation\n",
    "train_idx = int(n*.8)\n",
    "test_idx = int(n*.9)\n",
    "\n",
    "x_train = x[:train_idx,:]\n",
    "y_train = y[:train_idx]\n",
    "\n",
    "x_test = x[train_idx:test_idx,:]\n",
    "y_test = y[train_idx:test_idx]\n",
    "\n",
    "x_valid = x[test_idx:,:]\n",
    "y_valid = y[test_idx:]"
   ]
  },
  {
   "cell_type": "code",
   "execution_count": 12,
   "metadata": {},
   "outputs": [
    {
     "name": "stdout",
     "output_type": "stream",
     "text": [
      "accuracy score:\n",
      "0.558139534884\n",
      "confusion matrix: \n",
      "[[11 23]\n",
      " [15 37]]\n",
      "classification report: \n",
      "             precision    recall  f1-score   support\n",
      "\n",
      "          0       0.42      0.32      0.37        34\n",
      "          1       0.62      0.71      0.66        52\n",
      "\n",
      "avg / total       0.54      0.56      0.54        86\n",
      "\n"
     ]
    }
   ],
   "source": [
    "from sklearn.preprocessing import StandardScaler\n",
    "scaler = StandardScaler().fit(x_train)\n",
    "rescaledX = scaler.transform(x_train)\n",
    "model_xgb = XGBClassifier()\n",
    "model_xgb.fit(rescaledX, y_train)\n",
    "# estimate accuracy on validation dataset\n",
    "rescaledValidationX = scaler.transform(x_test)\n",
    "predictions = model_xgb.predict(rescaledValidationX)\n",
    "print(\"accuracy score:\")\n",
    "print(accuracy_score(y_test, predictions))\n",
    "print(\"confusion matrix: \")\n",
    "print(confusion_matrix(y_test, predictions))\n",
    "print(\"classification report: \")\n",
    "print(classification_report(y_test, predictions))"
   ]
  },
  {
   "cell_type": "code",
   "execution_count": 14,
   "metadata": {},
   "outputs": [
    {
     "ename": "ModuleNotFoundError",
     "evalue": "No module named 'plotly'",
     "output_type": "error",
     "traceback": [
      "\u001b[1;31m---------------------------------------------------------------------------\u001b[0m",
      "\u001b[1;31mModuleNotFoundError\u001b[0m                       Traceback (most recent call last)",
      "\u001b[1;32m<ipython-input-14-7b1b87462486>\u001b[0m in \u001b[0;36m<module>\u001b[1;34m()\u001b[0m\n\u001b[1;32m----> 1\u001b[1;33m \u001b[1;32mimport\u001b[0m \u001b[0mplotly\u001b[0m\u001b[1;33m.\u001b[0m\u001b[0mgraph_objs\u001b[0m \u001b[1;32mas\u001b[0m \u001b[0mgo\u001b[0m\u001b[1;33m\u001b[0m\u001b[0m\n\u001b[0m\u001b[0;32m      2\u001b[0m \u001b[1;33m\u001b[0m\u001b[0m\n\u001b[0;32m      3\u001b[0m \u001b[0mfeatures\u001b[0m \u001b[1;33m=\u001b[0m \u001b[0mmerged_df\u001b[0m\u001b[1;33m.\u001b[0m\u001b[0mdrop\u001b[0m\u001b[1;33m(\u001b[0m\u001b[1;33m[\u001b[0m\u001b[1;34m'label'\u001b[0m\u001b[1;33m]\u001b[0m\u001b[1;33m,\u001b[0m\u001b[0maxis\u001b[0m\u001b[1;33m=\u001b[0m\u001b[1;36m1\u001b[0m\u001b[1;33m)\u001b[0m\u001b[1;33m.\u001b[0m\u001b[0mcolumns\u001b[0m\u001b[1;33m.\u001b[0m\u001b[0mvalues\u001b[0m\u001b[1;33m\u001b[0m\u001b[0m\n\u001b[0;32m      4\u001b[0m \u001b[1;33m\u001b[0m\u001b[0m\n\u001b[0;32m      5\u001b[0m x, y = (list(x) for x in zip(*sorted(zip(model_xgb.feature_importances_, features), \n",
      "\u001b[1;31mModuleNotFoundError\u001b[0m: No module named 'plotly'"
     ]
    }
   ],
   "source": [
    "import plotly.graph_objs as go\n",
    "\n",
    "features = merged_df.drop(['label'],axis=1).columns.values\n",
    "\n",
    "x, y = (list(x) for x in zip(*sorted(zip(model_xgb.feature_importances_, features), \n",
    "                                                            reverse = False)))\n",
    "trace2 = go.Bar(\n",
    "    x=x ,\n",
    "    y=y,\n",
    "    marker=dict(\n",
    "        color=x,\n",
    "        colorscale = 'Viridis',\n",
    "        reversescale = True\n",
    "    ),\n",
    "    name='Feature importance for XGBoost',\n",
    "    orientation='h',\n",
    ")\n",
    "\n",
    "layout = dict(\n",
    "    title='Barplot of Feature importances for XGBoost',\n",
    "     width = 1000, height = 1000,\n",
    "    yaxis=dict(\n",
    "        showgrid=False,\n",
    "        showline=False,\n",
    "        showticklabels=True,\n",
    "#         domain=[0, 0.85],\n",
    "    ))\n",
    "\n",
    "fig1 = go.Figure(data=[trace2])\n",
    "fig1['layout'].update(layout)\n",
    "py.iplot(fig1, filename='plots')"
   ]
  },
  {
   "cell_type": "code",
   "execution_count": null,
   "metadata": {
    "collapsed": true
   },
   "outputs": [],
   "source": [
    "import sys\n",
    "!{sys.executable} -m pip install plotly"
   ]
  },
  {
   "cell_type": "code",
   "execution_count": null,
   "metadata": {
    "collapsed": true
   },
   "outputs": [],
   "source": []
  }
 ],
 "metadata": {
  "kernelspec": {
   "display_name": "Python 3",
   "language": "python",
   "name": "python3"
  },
  "language_info": {
   "codemirror_mode": {
    "name": "ipython",
    "version": 3
   },
   "file_extension": ".py",
   "mimetype": "text/x-python",
   "name": "python",
   "nbconvert_exporter": "python",
   "pygments_lexer": "ipython3",
   "version": "3.6.1"
  }
 },
 "nbformat": 4,
 "nbformat_minor": 2
}
