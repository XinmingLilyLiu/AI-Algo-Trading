{
 "cells": [
  {
   "cell_type": "code",
   "execution_count": 1,
   "metadata": {
    "collapsed": true
   },
   "outputs": [],
   "source": [
    "import pandas as pd"
   ]
  },
  {
   "cell_type": "code",
   "execution_count": 2,
   "metadata": {
    "collapsed": true
   },
   "outputs": [],
   "source": [
    "news = pd.read_csv(\"News/AMZN.OQ.csv\")"
   ]
  },
  {
   "cell_type": "code",
   "execution_count": 3,
   "metadata": {},
   "outputs": [
    {
     "data": {
      "text/html": [
       "<div>\n",
       "<style>\n",
       "    .dataframe thead tr:only-child th {\n",
       "        text-align: right;\n",
       "    }\n",
       "\n",
       "    .dataframe thead th {\n",
       "        text-align: left;\n",
       "    }\n",
       "\n",
       "    .dataframe tbody tr th {\n",
       "        vertical-align: top;\n",
       "    }\n",
       "</style>\n",
       "<table border=\"1\" class=\"dataframe\">\n",
       "  <thead>\n",
       "    <tr style=\"text-align: right;\">\n",
       "      <th></th>\n",
       "      <th>date</th>\n",
       "      <th>time</th>\n",
       "      <th>title</th>\n",
       "      <th>abstract</th>\n",
       "    </tr>\n",
       "  </thead>\n",
       "  <tbody>\n",
       "    <tr>\n",
       "      <th>0</th>\n",
       "      <td>2014-03-03</td>\n",
       "      <td>4:45 PM</td>\n",
       "      <td>U.S. Supreme Court agrees to hear Amazon worke...</td>\n",
       "      <td>The U.S. Supreme Court agreed on Monday to hea...</td>\n",
       "    </tr>\n",
       "    <tr>\n",
       "      <th>1</th>\n",
       "      <td>2014-03-03</td>\n",
       "      <td>4:40 PM</td>\n",
       "      <td>U.S. Supreme Court agrees to hear Amazon worke...</td>\n",
       "      <td>March 3 The U.S. Supreme Court agreed on Monda...</td>\n",
       "    </tr>\n",
       "    <tr>\n",
       "      <th>2</th>\n",
       "      <td>2014-03-05</td>\n",
       "      <td>6:50 PM</td>\n",
       "      <td>Winklevoss twins use bitcoins to book space trip</td>\n",
       "      <td>SAN FRANCISCO You can't spend bitcoins at Amaz...</td>\n",
       "    </tr>\n",
       "    <tr>\n",
       "      <th>3</th>\n",
       "      <td>2014-03-05</td>\n",
       "      <td>6:40 PM</td>\n",
       "      <td>Winklevoss twins use bitcoins to book space trip</td>\n",
       "      <td>SAN FRANCISCO, March 5 You can't spend bitcoin...</td>\n",
       "    </tr>\n",
       "    <tr>\n",
       "      <th>4</th>\n",
       "      <td>2014-03-06</td>\n",
       "      <td>1:45 PM</td>\n",
       "      <td>Germany's Otto invests to see off Amazon, Zala...</td>\n",
       "      <td>BERLIN, March 6 Germany's Otto, Europe's secon...</td>\n",
       "    </tr>\n",
       "  </tbody>\n",
       "</table>\n",
       "</div>"
      ],
      "text/plain": [
       "         date     time                                              title  \\\n",
       "0  2014-03-03  4:45 PM  U.S. Supreme Court agrees to hear Amazon worke...   \n",
       "1  2014-03-03  4:40 PM  U.S. Supreme Court agrees to hear Amazon worke...   \n",
       "2  2014-03-05  6:50 PM   Winklevoss twins use bitcoins to book space trip   \n",
       "3  2014-03-05  6:40 PM   Winklevoss twins use bitcoins to book space trip   \n",
       "4  2014-03-06  1:45 PM  Germany's Otto invests to see off Amazon, Zala...   \n",
       "\n",
       "                                            abstract  \n",
       "0  The U.S. Supreme Court agreed on Monday to hea...  \n",
       "1  March 3 The U.S. Supreme Court agreed on Monda...  \n",
       "2  SAN FRANCISCO You can't spend bitcoins at Amaz...  \n",
       "3  SAN FRANCISCO, March 5 You can't spend bitcoin...  \n",
       "4  BERLIN, March 6 Germany's Otto, Europe's secon...  "
      ]
     },
     "execution_count": 3,
     "metadata": {},
     "output_type": "execute_result"
    }
   ],
   "source": [
    "news.head()"
   ]
  },
  {
   "cell_type": "code",
   "execution_count": 51,
   "metadata": {
    "collapsed": true
   },
   "outputs": [],
   "source": [
    "import datetime\n",
    "def get_trading_date(df):\n",
    "    dates = []\n",
    "    for i in range(len(df)):\n",
    "        date = df.loc[i][\"date\"]\n",
    "        time = df.loc[i][\"time\"]\n",
    "        if datetime.datetime.strptime(time, '%I:%M %p') < datetime.datetime.strptime(\"4:00 PM\", '%I:%M %p'):\n",
    "            dates.append(date)\n",
    "        else:\n",
    "            date = datetime.datetime.strftime((datetime.datetime.strptime(date, '%Y-%m-%d') + datetime.timedelta(days=1)), '%Y-%m-%d')\n",
    "            dates.append(date)\n",
    "    return dates"
   ]
  },
  {
   "cell_type": "code",
   "execution_count": 53,
   "metadata": {},
   "outputs": [
    {
     "ename": "ModuleNotFoundError",
     "evalue": "No module named 'vaderSentiment'",
     "output_type": "error",
     "traceback": [
      "\u001b[1;31m---------------------------------------------------------------------------\u001b[0m",
      "\u001b[1;31mModuleNotFoundError\u001b[0m                       Traceback (most recent call last)",
      "\u001b[1;32m<ipython-input-53-f8cea5000b7c>\u001b[0m in \u001b[0;36m<module>\u001b[1;34m()\u001b[0m\n\u001b[1;32m----> 1\u001b[1;33m \u001b[1;32mfrom\u001b[0m \u001b[0mvaderSentiment\u001b[0m\u001b[1;33m.\u001b[0m\u001b[0mvaderSentiment\u001b[0m \u001b[1;32mimport\u001b[0m \u001b[0mSentimentIntensityAnalyzer\u001b[0m\u001b[1;33m\u001b[0m\u001b[0m\n\u001b[0m",
      "\u001b[1;31mModuleNotFoundError\u001b[0m: No module named 'vaderSentiment'"
     ]
    }
   ],
   "source": [
    "from vaderSentiment.vaderSentiment import SentimentIntensityAnalyzer"
   ]
  },
  {
   "cell_type": "code",
   "execution_count": null,
   "metadata": {
    "collapsed": true
   },
   "outputs": [],
   "source": [
    "# Install a pip package in the current Jupyter kernel\n",
    "import sys\n",
    "!{sys.executable} -m pip install vaderSentiment"
   ]
  },
  {
   "cell_type": "code",
   "execution_count": null,
   "metadata": {
    "collapsed": true
   },
   "outputs": [],
   "source": []
  }
 ],
 "metadata": {
  "kernelspec": {
   "display_name": "Python 3",
   "language": "python",
   "name": "python3"
  },
  "language_info": {
   "codemirror_mode": {
    "name": "ipython",
    "version": 3
   },
   "file_extension": ".py",
   "mimetype": "text/x-python",
   "name": "python",
   "nbconvert_exporter": "python",
   "pygments_lexer": "ipython3",
   "version": "3.6.1"
  }
 },
 "nbformat": 4,
 "nbformat_minor": 2
}
